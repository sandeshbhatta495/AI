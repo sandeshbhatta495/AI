{
 "cells": [
  {
   "cell_type": "code",
   "execution_count": null,
   "id": "465eb16a-2785-4af3-a710-2e1608809dbc",
   "metadata": {},
   "outputs": [],
   "source": []
  }
 ],
 "metadata": {
  "kernelspec": {
   "display_name": "",
   "name": ""
  },
  "language_info": {
   "name": ""
  }
 },
 "nbformat": 4,
 "nbformat_minor": 5
}
