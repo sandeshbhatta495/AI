{
 "cells": [
  {
   "cell_type": "code",
   "execution_count": 36,
   "id": "3357e880-051e-4753-857d-64a30126773a",
   "metadata": {},
   "outputs": [
    {
     "name": "stdout",
     "output_type": "stream",
     "text": [
      "Hello world\n"
     ]
    }
   ],
   "source": [
    "print(\"Hello world\") # test "
   ]
  },
  {
   "cell_type": "markdown",
   "id": "8edb3039-cca2-49c5-9afc-35a2051a7544",
   "metadata": {},
   "source": [
    "Required Libraries "
   ]
  },
  {
   "cell_type": "code",
   "execution_count": 37,
   "id": "260abd9c-2832-4c68-9abf-eb5db08603b3",
   "metadata": {},
   "outputs": [
    {
     "name": "stdout",
     "output_type": "stream",
     "text": [
      "Requirement already satisfied: numpy in c:\\users\\dell\\anaconda3\\lib\\site-packages (1.26.4)\n",
      "Requirement already satisfied: pandas in c:\\users\\dell\\anaconda3\\lib\\site-packages (2.2.2)\n",
      "Requirement already satisfied: numpy>=1.26.0 in c:\\users\\dell\\anaconda3\\lib\\site-packages (from pandas) (1.26.4)\n",
      "Requirement already satisfied: python-dateutil>=2.8.2 in c:\\users\\dell\\anaconda3\\lib\\site-packages (from pandas) (2.9.0.post0)\n",
      "Requirement already satisfied: pytz>=2020.1 in c:\\users\\dell\\anaconda3\\lib\\site-packages (from pandas) (2024.1)\n",
      "Requirement already satisfied: tzdata>=2022.7 in c:\\users\\dell\\anaconda3\\lib\\site-packages (from pandas) (2023.3)\n",
      "Requirement already satisfied: six>=1.5 in c:\\users\\dell\\anaconda3\\lib\\site-packages (from python-dateutil>=2.8.2->pandas) (1.16.0)\n"
     ]
    }
   ],
   "source": [
    "!pip install numpy\n",
    "!pip install pandas "
   ]
  },
  {
   "cell_type": "code",
   "execution_count": 38,
   "id": "dedf11eb-72c2-4e54-a834-795a023f6d0f",
   "metadata": {},
   "outputs": [],
   "source": [
    "import numpy as np\n",
    "import pandas as pd\n"
   ]
  },
  {
   "cell_type": "code",
   "execution_count": 39,
   "id": "ad9554d3-33b2-40e5-8cde-de7b99f184eb",
   "metadata": {},
   "outputs": [],
   "source": [
    "arr = np.array([[1, 2, 3], [4, 5, 6]]) #Loading values "
   ]
  },
  {
   "cell_type": "code",
   "execution_count": 40,
   "id": "9594904c-0b55-4b92-9162-a61dcd9acb50",
   "metadata": {},
   "outputs": [
    {
     "name": "stdout",
     "output_type": "stream",
     "text": [
      "(2, 3)\n"
     ]
    }
   ],
   "source": [
    "print(arr.shape)"
   ]
  },
  {
   "cell_type": "code",
   "execution_count": 41,
   "id": "2a819ca5-84a3-47dc-9cb4-e20c0b1e5899",
   "metadata": {},
   "outputs": [
    {
     "name": "stdout",
     "output_type": "stream",
     "text": [
      "6\n"
     ]
    }
   ],
   "source": [
    "print(arr[1, 2])       # 6"
   ]
  },
  {
   "cell_type": "code",
   "execution_count": 42,
   "id": "6316123d-4dc2-44b2-9a4c-8c10c5a0d704",
   "metadata": {},
   "outputs": [
    {
     "name": "stdout",
     "output_type": "stream",
     "text": [
      "[2 5]\n"
     ]
    }
   ],
   "source": [
    "print(arr[:, 1])   "
   ]
  },
  {
   "cell_type": "markdown",
   "id": "8e10aacc-9820-4f7f-8501-e1b3534a04cc",
   "metadata": {},
   "source": [
    "Loading two new values"
   ]
  },
  {
   "cell_type": "code",
   "execution_count": 55,
   "id": "03f82ab8-d0a0-4a62-acb6-c5120ac9bcc2",
   "metadata": {},
   "outputs": [
    {
     "name": "stdout",
     "output_type": "stream",
     "text": [
      "[[ 2  4  6]\n",
      " [ 8 10 12]\n",
      " [10 12 14]]\n"
     ]
    }
   ],
   "source": [
    "import numpy as np\n",
    "\n",
    "arr1 = np.array([[1, 2, 3], [4, 5, 6], [5, 6, 7]])\n",
    "arr2 = np.array([[1, 2, 3], [4, 5, 6], [5, 6, 7]])\n",
    "result = arr1+arr2\n",
    "print(result)"
   ]
  },
  {
   "cell_type": "markdown",
   "id": "b272a28b-c50d-4908-bb63-7ebc4502f9f8",
   "metadata": {},
   "source": [
    "Mathmatical and logical operation "
   ]
  },
  {
   "cell_type": "code",
   "execution_count": 57,
   "id": "5ce6ccc8-41c8-459d-8d19-296c9c9176ae",
   "metadata": {},
   "outputs": [
    {
     "name": "stdout",
     "output_type": "stream",
     "text": [
      "[[ 2  4  6]\n",
      " [ 8 10 12]\n",
      " [10 12 14]]\n"
     ]
    }
   ],
   "source": [
    "result = arr1+arr2\n",
    "print (result)"
   ]
  },
  {
   "cell_type": "code",
   "execution_count": 59,
   "id": "6459f427-9463-4f93-a3a9-090174721a14",
   "metadata": {},
   "outputs": [
    {
     "name": "stdout",
     "output_type": "stream",
     "text": [
      "[[ 1  4  9]\n",
      " [16 25 36]\n",
      " [25 36 49]]\n"
     ]
    }
   ],
   "source": [
    "#Matrix Multiplication\n",
    "mul_result=arr1*arr2\n",
    "print(mul_result)"
   ]
  },
  {
   "cell_type": "code",
   "execution_count": 45,
   "id": "46e4725e-8b4d-4151-bc6c-a4fd60ab599a",
   "metadata": {},
   "outputs": [],
   "source": [
    "arr3 = np.array([[7, 8, 9], [1, 2, 3], [4, 5, 6]])\n",
    "arr4 = np.array([[0, 1, 0], [1, 0, 1], [0, 1, 0]])\n",
    "result = arr3 + arr4  # Element-wise addition\n",
    "\n"
   ]
  },
  {
   "cell_type": "code",
   "execution_count": 60,
   "id": "6739836d-12fc-4cde-88de-2770503799db",
   "metadata": {},
   "outputs": [
    {
     "name": "stdout",
     "output_type": "stream",
     "text": [
      "[[ 2  4  6]\n",
      " [ 8 10 12]\n",
      " [10 12 14]]\n"
     ]
    }
   ],
   "source": [
    "print(result)"
   ]
  },
  {
   "cell_type": "markdown",
   "id": "1f96c4cc-3f1c-4f89-b6b1-733fde646925",
   "metadata": {},
   "source": [
    "Dot Product "
   ]
  },
  {
   "cell_type": "code",
   "execution_count": 47,
   "id": "c9391063-1354-4154-8a19-e352caa1a694",
   "metadata": {},
   "outputs": [
    {
     "name": "stdout",
     "output_type": "stream",
     "text": [
      "32\n"
     ]
    }
   ],
   "source": [
    "a = np.array([1, 2, 3])\n",
    "b = np.array([4, 5, 6])\n",
    "print(np.dot(a, b))  # 32\n"
   ]
  },
  {
   "cell_type": "markdown",
   "id": "6171e434-1bc0-4f83-b533-8cbc563ec27a",
   "metadata": {},
   "source": [
    "cross Product "
   ]
  },
  {
   "cell_type": "code",
   "execution_count": 48,
   "id": "aea254f1-0719-41d2-8e64-682b214396ad",
   "metadata": {},
   "outputs": [
    {
     "name": "stdout",
     "output_type": "stream",
     "text": [
      "[-3  6 -3]\n"
     ]
    }
   ],
   "source": [
    "print(np.cross(a,b))"
   ]
  },
  {
   "cell_type": "markdown",
   "id": "c837fc72-009e-441c-b3c8-cdb1587206cf",
   "metadata": {},
   "source": [
    "Filtering the innner values of matrix "
   ]
  },
  {
   "cell_type": "code",
   "execution_count": 49,
   "id": "1cfa3d8c-c579-4a17-ac2f-375fbed1a3b4",
   "metadata": {},
   "outputs": [
    {
     "name": "stdout",
     "output_type": "stream",
     "text": [
      "[30 40]\n"
     ]
    }
   ],
   "source": [
    "arr = np.array([10, 20, 30, 40])\n",
    "print(arr[arr > 25])  # [30 40]\n"
   ]
  },
  {
   "cell_type": "code",
   "execution_count": 50,
   "id": "a0fdb162-2fd5-41e5-8de8-5d46b5650e01",
   "metadata": {},
   "outputs": [
    {
     "name": "stdout",
     "output_type": "stream",
     "text": [
      "[40 50 70 40]\n"
     ]
    }
   ],
   "source": [
    "arr = np.array([40, 50, 70, 40])\n",
    "print(arr[arr > 25])  # [30 40]\n"
   ]
  },
  {
   "cell_type": "markdown",
   "id": "1d13f021-b6f7-4c88-bfc9-6290a3749bdc",
   "metadata": {},
   "source": [
    "some special mathmatical operations (sum, standrad deviations, maximum from "
   ]
  },
  {
   "cell_type": "code",
   "execution_count": 61,
   "id": "96fb7699-c9bc-4b7f-9d85-afb454896441",
   "metadata": {},
   "outputs": [
    {
     "name": "stdout",
     "output_type": "stream",
     "text": [
      "10\n",
      "2.5\n",
      "1.118033988749895\n",
      "4\n",
      "1\n",
      "[ 2.71828183  7.3890561  20.08553692 54.59815003]\n",
      "[0.         0.69314718 1.09861229 1.38629436]\n"
     ]
    }
   ],
   "source": [
    "x = np.array([1, 2, 3, 4])\n",
    "\n",
    "print(np.sum(x))       # 10\n",
    "print(np.mean(x))      # 2.5\n",
    "print(np.std(x))       # Standard deviation\n",
    "print(np.max(x))       # 4\n",
    "print(np.min(x))       # 1\n",
    "print(np.exp(x))       # e^x\n",
    "print(np.log(x))       # natural log"
   ]
  },
  {
   "cell_type": "markdown",
   "id": "5fb88823-d502-4e2c-a9e8-aa716ee53c71",
   "metadata": {},
   "source": [
    "Where function in numpy"
   ]
  },
  {
   "cell_type": "code",
   "execution_count": 62,
   "id": "3611e6ef-6c0f-47e4-a3e6-850ae2373357",
   "metadata": {},
   "outputs": [
    {
     "data": {
      "text/plain": [
       "array([  0,   0,   0, 100, 100])"
      ]
     },
     "execution_count": 62,
     "metadata": {},
     "output_type": "execute_result"
    }
   ],
   "source": [
    "x = np.array([1, 2, 3, 4, 5])\n",
    "np.where(x > 3, 100, 0)  \n"
   ]
  },
  {
   "cell_type": "code",
   "execution_count": 63,
   "id": "612d9e2e-228c-4d18-9f3f-f49f898f89aa",
   "metadata": {},
   "outputs": [
    {
     "data": {
      "text/plain": [
       "array([  0, 100, 100, 100, 100])"
      ]
     },
     "execution_count": 63,
     "metadata": {},
     "output_type": "execute_result"
    }
   ],
   "source": [
    "x = np.array([5, 100 ,600, 700, 500])\n",
    "np.where(x > 29, 100, 0)  \n"
   ]
  },
  {
   "cell_type": "code",
   "execution_count": null,
   "id": "e5082b03-93c6-4d72-9663-c84a9a30850b",
   "metadata": {},
   "outputs": [],
   "source": []
  }
 ],
 "metadata": {
  "kernelspec": {
   "display_name": "Python 3 (ipykernel)",
   "language": "python",
   "name": "python3"
  },
  "language_info": {
   "codemirror_mode": {
    "name": "ipython",
    "version": 3
   },
   "file_extension": ".py",
   "mimetype": "text/x-python",
   "name": "python",
   "nbconvert_exporter": "python",
   "pygments_lexer": "ipython3",
   "version": "3.12.7"
  }
 },
 "nbformat": 4,
 "nbformat_minor": 5
}
