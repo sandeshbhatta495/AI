{
 "cells": [
  {
   "cell_type": "code",
   "execution_count": null,
   "id": "ef7f9812",
   "metadata": {
    "vscode": {
     "languageId": "plaintext"
    }
   },
   "outputs": [],
   "source": [
    "print(\"helllo world\")"
   ]
  }
 ],
 "metadata": {
  "language_info": {
   "name": "python"
  }
 },
 "nbformat": 4,
 "nbformat_minor": 5
}
