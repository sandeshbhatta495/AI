{
 "cells": [
  {
   "cell_type": "raw",
   "id": "3b79c930-bc1e-494d-aabd-06777990e1a2",
   "metadata": {},
   "source": [
    "Day 5 of AI & ML (SANDESH BHATTA)"
   ]
  },
  {
   "cell_type": "raw",
   "id": "4ea94986-8d7e-4648-879b-8850124ef6e2",
   "metadata": {},
   "source": [
    "Preprocessing for ML” + Intro to Modeling"
   ]
  },
  {
   "cell_type": "code",
   "execution_count": 1,
   "id": "890bf7ed-c662-4a5b-8eff-4696af6320b2",
   "metadata": {},
   "outputs": [],
   "source": [
    "from sklearn.model_selection import train_test_split\n",
    "from sklearn.preprocessing import StandardScaler\n"
   ]
  },
  {
   "cell_type": "code",
   "execution_count": null,
   "id": "bc1beacb-c6c5-4d36-8570-a5d1137e1c57",
   "metadata": {},
   "outputs": [],
   "source": []
  }
 ],
 "metadata": {
  "kernelspec": {
   "display_name": "Python 3 (ipykernel)",
   "language": "python",
   "name": "python3"
  },
  "language_info": {
   "codemirror_mode": {
    "name": "ipython",
    "version": 3
   },
   "file_extension": ".py",
   "mimetype": "text/x-python",
   "name": "python",
   "nbconvert_exporter": "python",
   "pygments_lexer": "ipython3",
   "version": "3.12.7"
  }
 },
 "nbformat": 4,
 "nbformat_minor": 5
}
